{
 "cells": [
  {
   "cell_type": "code",
   "execution_count": 11,
   "metadata": {},
   "outputs": [],
   "source": [
    "class Dog:\n",
    "    def __init__(self, name, breed, age):\n",
    "        self.name = name\n",
    "        self.breed = breed\n",
    "        self.age = age"
   ]
  },
  {
   "cell_type": "code",
   "execution_count": 17,
   "metadata": {},
   "outputs": [
    {
     "data": {
      "text/plain": [
       "<__main__.Dog at 0x21d3be9c440>"
      ]
     },
     "execution_count": 17,
     "metadata": {},
     "output_type": "execute_result"
    }
   ],
   "source": [
    "rocky = Dog(name=\"Rocky\", breed=\"Husky\", age=2)\n",
    "rocky"
   ]
  },
  {
   "cell_type": "code",
   "execution_count": 15,
   "metadata": {},
   "outputs": [],
   "source": [
    "class Dog:\n",
    "    def __init__(self, name, breed, age):\n",
    "        self.name = name\n",
    "        self.breed = breed\n",
    "        self.age = age\n",
    "\n",
    "    def birthday_today(self): # added newly\n",
    "        self.age = self.age + 1\n",
    "        print(f\"{self.name}'s age increased by 1, new age: {self.age}\")"
   ]
  },
  {
   "cell_type": "code",
   "execution_count": 20,
   "metadata": {},
   "outputs": [
    {
     "name": "stdout",
     "output_type": "stream",
     "text": [
      "Rocky's age increased by 1, new age: 4\n",
      "Micky's age increased by 1, new age: 6\n"
     ]
    }
   ],
   "source": [
    "micky = Dog(name=\"Micky\", breed=\"Retriever\", age=5) # can support multiple items as we pass info\n",
    "rocky.birthday_today()\n",
    "micky.birthday_today()"
   ]
  },
  {
   "cell_type": "code",
   "execution_count": 21,
   "metadata": {},
   "outputs": [],
   "source": [
    "class Dog:\n",
    "    def __init__(self, name, breed, age, is_friendly):\n",
    "        self.name = name\n",
    "        self.breed = breed\n",
    "        self.age = age\n",
    "        self.is_friendly = is_friendly # new\n",
    "        self.friends = [] # new\n",
    "\n",
    "    def birthday_today(self): \n",
    "        self.age = self.age + 1\n",
    "        print(f\"{self.name}'s age increased by 1, new age: {self.age}\")\n",
    "\n",
    "    # New method\n",
    "    def become_friends(self, other_dog):\n",
    "        if other_dog.is_friendly:\n",
    "            self.friends.append(other_dog)\n",
    "            other_dog.friends.append(self)\n",
    "\n",
    "            print(f\"{self.name} become friends with {self.other_dog}!\")"
   ]
  },
  {
   "cell_type": "code",
   "execution_count": 24,
   "metadata": {},
   "outputs": [
    {
     "ename": "AttributeError",
     "evalue": "'Dog' object has no attribute 'other_dog'",
     "output_type": "error",
     "traceback": [
      "\u001b[1;31m---------------------------------------------------------------------------\u001b[0m",
      "\u001b[1;31mAttributeError\u001b[0m                            Traceback (most recent call last)",
      "Cell \u001b[1;32mIn[24], line 5\u001b[0m\n\u001b[0;32m      2\u001b[0m dog_two \u001b[38;5;241m=\u001b[39m Dog(\u001b[38;5;124m\"\u001b[39m\u001b[38;5;124mBruno\u001b[39m\u001b[38;5;124m\"\u001b[39m, \u001b[38;5;124m\"\u001b[39m\u001b[38;5;124mChihuahua\u001b[39m\u001b[38;5;124m\"\u001b[39m, \u001b[38;5;241m10\u001b[39m, \u001b[38;5;28;01mTrue\u001b[39;00m)\n\u001b[0;32m      4\u001b[0m \u001b[38;5;66;03m# When Sparky asks Bruno, Bruno says no.\u001b[39;00m\n\u001b[1;32m----> 5\u001b[0m \u001b[43mdog_one\u001b[49m\u001b[38;5;241;43m.\u001b[39;49m\u001b[43mbecome_friends\u001b[49m\u001b[43m(\u001b[49m\u001b[43mdog_two\u001b[49m\u001b[43m)\u001b[49m\n",
      "Cell \u001b[1;32mIn[21], line 19\u001b[0m, in \u001b[0;36mDog.become_friends\u001b[1;34m(self, other_dog)\u001b[0m\n\u001b[0;32m     16\u001b[0m \u001b[38;5;28mself\u001b[39m\u001b[38;5;241m.\u001b[39mfriends\u001b[38;5;241m.\u001b[39mappend(other_dog)\n\u001b[0;32m     17\u001b[0m other_dog\u001b[38;5;241m.\u001b[39mfriends\u001b[38;5;241m.\u001b[39mappend(\u001b[38;5;28mself\u001b[39m)\n\u001b[1;32m---> 19\u001b[0m \u001b[38;5;28mprint\u001b[39m(\u001b[38;5;124mf\u001b[39m\u001b[38;5;124m\"\u001b[39m\u001b[38;5;132;01m{\u001b[39;00m\u001b[38;5;28mself\u001b[39m\u001b[38;5;241m.\u001b[39mname\u001b[38;5;132;01m}\u001b[39;00m\u001b[38;5;124m become friends with \u001b[39m\u001b[38;5;132;01m{\u001b[39;00m\u001b[38;5;28;43mself\u001b[39;49m\u001b[38;5;241;43m.\u001b[39;49m\u001b[43mother_dog\u001b[49m\u001b[38;5;132;01m}\u001b[39;00m\u001b[38;5;124m!\u001b[39m\u001b[38;5;124m\"\u001b[39m)\n",
      "\u001b[1;31mAttributeError\u001b[0m: 'Dog' object has no attribute 'other_dog'"
     ]
    }
   ],
   "source": [
    "dog_one = Dog(\"Sparky\", \"Golden Retriever\", 5, True)\n",
    "dog_two = Dog(\"Bruno\", \"Chihuahua\", 10, True)\n",
    "\n",
    "# When Sparky asks Bruno, Bruno says no.\n",
    "dog_one.become_friends(dog_two)"
   ]
  },
  {
   "cell_type": "code",
   "execution_count": null,
   "metadata": {},
   "outputs": [],
   "source": []
  }
 ],
 "metadata": {
  "kernelspec": {
   "display_name": "Python 3",
   "language": "python",
   "name": "python3"
  },
  "language_info": {
   "codemirror_mode": {
    "name": "ipython",
    "version": 3
   },
   "file_extension": ".py",
   "mimetype": "text/x-python",
   "name": "python",
   "nbconvert_exporter": "python",
   "pygments_lexer": "ipython3",
   "version": "3.12.9"
  }
 },
 "nbformat": 4,
 "nbformat_minor": 2
}
